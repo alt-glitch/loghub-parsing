{
 "cells": [
  {
   "cell_type": "code",
   "execution_count": 7,
   "metadata": {},
   "outputs": [],
   "source": [
    "from datasets import Dataset\n",
    "import pandas as pd\n",
    "\n",
    "dataset_path = \"nl-logql-dataset\"\n",
    "\n",
    "dataset = Dataset.load_from_disk(dataset_path)\n",
    "df = dataset.to_pandas()"
   ]
  },
  {
   "cell_type": "code",
   "execution_count": 8,
   "metadata": {},
   "outputs": [
    {
     "data": {
      "text/html": [
       "<div>\n",
       "<style scoped>\n",
       "    .dataframe tbody tr th:only-of-type {\n",
       "        vertical-align: middle;\n",
       "    }\n",
       "\n",
       "    .dataframe tbody tr th {\n",
       "        vertical-align: top;\n",
       "    }\n",
       "\n",
       "    .dataframe thead th {\n",
       "        text-align: right;\n",
       "    }\n",
       "</style>\n",
       "<table border=\"1\" class=\"dataframe\">\n",
       "  <thead>\n",
       "    <tr style=\"text-align: right;\">\n",
       "      <th></th>\n",
       "      <th>application</th>\n",
       "      <th>id</th>\n",
       "      <th>question</th>\n",
       "      <th>logql_query</th>\n",
       "      <th>query_explanation</th>\n",
       "      <th>query_result</th>\n",
       "      <th>category</th>\n",
       "    </tr>\n",
       "  </thead>\n",
       "  <tbody>\n",
       "    <tr>\n",
       "      <th>0</th>\n",
       "      <td>openstack</td>\n",
       "      <td>2</td>\n",
       "      <td>How long did it take to spawn instance 3edec1e...</td>\n",
       "      <td>{application=\"openstack\", log_file_type=\"nova-...</td>\n",
       "      <td>bla</td>\n",
       "      <td>3edec1e4-9678-4a3a-a21b-a145a4ee5e61 took 20.58</td>\n",
       "      <td></td>\n",
       "    </tr>\n",
       "    <tr>\n",
       "      <th>1</th>\n",
       "      <td>openstack</td>\n",
       "      <td>3</td>\n",
       "      <td>What was the total time taken to build instanc...</td>\n",
       "      <td>{application=\"openstack\", log_file_type=\"nova-...</td>\n",
       "      <td>1. {application=\"openstack\", log_file_type=\"no...</td>\n",
       "      <td>21.38</td>\n",
       "      <td></td>\n",
       "    </tr>\n",
       "    <tr>\n",
       "      <th>2</th>\n",
       "      <td>openstack</td>\n",
       "      <td>4</td>\n",
       "      <td>What was the total time taken to build instanc...</td>\n",
       "      <td>{application=\"openstack\", log_file_type=\"nova-...</td>\n",
       "      <td>1\\n{application=\"openstack\", log_file_type=\"no...</td>\n",
       "      <td>vcpu: 0.00 VCPU used out of 16 VCPU\\ndisk: 0.0...</td>\n",
       "      <td></td>\n",
       "    </tr>\n",
       "    <tr>\n",
       "      <th>3</th>\n",
       "      <td>openstack</td>\n",
       "      <td>5</td>\n",
       "      <td>What is the vCPU usage for compute node cp-1.s...</td>\n",
       "      <td>max by (node) (\\n  max_over_time(\\n    {applic...</td>\n",
       "      <td>1\\n{application=\"openstack\", log_file_type=\"no...</td>\n",
       "      <td>&lt;graph&gt;\\ngraph with plot of used_vcpus across ...</td>\n",
       "      <td></td>\n",
       "    </tr>\n",
       "    <tr>\n",
       "      <th>4</th>\n",
       "      <td>openstack</td>\n",
       "      <td>6</td>\n",
       "      <td>What is the RAM usage for compute node cp-1.sl...</td>\n",
       "      <td>max by (node) (\\n  max_over_time(\\n    {applic...</td>\n",
       "      <td>1\\n{application=\"openstack\", log_file_type=\"no...</td>\n",
       "      <td>&lt;graph&gt;\\\\ngraph with plot of used_vcpus across...</td>\n",
       "      <td></td>\n",
       "    </tr>\n",
       "    <tr>\n",
       "      <th>...</th>\n",
       "      <td>...</td>\n",
       "      <td>...</td>\n",
       "      <td>...</td>\n",
       "      <td>...</td>\n",
       "      <td>...</td>\n",
       "      <td>...</td>\n",
       "      <td>...</td>\n",
       "    </tr>\n",
       "    <tr>\n",
       "      <th>56</th>\n",
       "      <td>openssh</td>\n",
       "      <td>58</td>\n",
       "      <td>Show me all unique IP addresses that attempted...</td>\n",
       "      <td>sum by (ip) (\\n  count_over_time(\\n    {applic...</td>\n",
       "      <td>1\\n{application=\"openssh\", hostname=\"LabSZ\"}\\n...</td>\n",
       "      <td>226 unique IP addresses</td>\n",
       "      <td>Invalid User Attempts</td>\n",
       "    </tr>\n",
       "    <tr>\n",
       "      <th>57</th>\n",
       "      <td>openssh</td>\n",
       "      <td>59</td>\n",
       "      <td>How many attempts were made to authenticate wi...</td>\n",
       "      <td>sum(\\nsum by (source_ip) (\\n  count_over_time(...</td>\n",
       "      <td>1\\n{application=\"openssh\", hostname=\"LabSZ\"}\\n...</td>\n",
       "      <td>11.5k</td>\n",
       "      <td>Invalid User Attempts</td>\n",
       "    </tr>\n",
       "    <tr>\n",
       "      <th>58</th>\n",
       "      <td>openssh</td>\n",
       "      <td>60</td>\n",
       "      <td>How many times did we encounter 'Corrupted MAC...</td>\n",
       "      <td>sum by (hostname) (count_over_time({applicatio...</td>\n",
       "      <td>1\\n{application=\"openssh\"}\\nFetch all log line...</td>\n",
       "      <td>1</td>\n",
       "      <td>System Health and Performance</td>\n",
       "    </tr>\n",
       "    <tr>\n",
       "      <th>59</th>\n",
       "      <td>openssh</td>\n",
       "      <td>61</td>\n",
       "      <td>List all 'Bad packet length' errors, including...</td>\n",
       "      <td>sum by (length) (\\n    count_over_time(\\n     ...</td>\n",
       "      <td>1\\n{application=\"openssh\", hostname=\"LabSZ\"}\\n...</td>\n",
       "      <td>1\\n&lt;graph&gt;</td>\n",
       "      <td>System Health and Performance</td>\n",
       "    </tr>\n",
       "    <tr>\n",
       "      <th>60</th>\n",
       "      <td>openssh</td>\n",
       "      <td>62</td>\n",
       "      <td>Show me the trend of 'PAM service ignoring max...</td>\n",
       "      <td>sum by (timestamp) (\\n  count_over_time(\\n    ...</td>\n",
       "      <td>1\\n{application=\"openssh\", hostname=\"LabSZ\"}\\n...</td>\n",
       "      <td>38.0k</td>\n",
       "      <td>System Health and Performance</td>\n",
       "    </tr>\n",
       "  </tbody>\n",
       "</table>\n",
       "<p>61 rows × 7 columns</p>\n",
       "</div>"
      ],
      "text/plain": [
       "   application  id                                           question  \\\n",
       "0    openstack   2  How long did it take to spawn instance 3edec1e...   \n",
       "1    openstack   3  What was the total time taken to build instanc...   \n",
       "2    openstack   4  What was the total time taken to build instanc...   \n",
       "3    openstack   5  What is the vCPU usage for compute node cp-1.s...   \n",
       "4    openstack   6  What is the RAM usage for compute node cp-1.sl...   \n",
       "..         ...  ..                                                ...   \n",
       "56     openssh  58  Show me all unique IP addresses that attempted...   \n",
       "57     openssh  59  How many attempts were made to authenticate wi...   \n",
       "58     openssh  60  How many times did we encounter 'Corrupted MAC...   \n",
       "59     openssh  61  List all 'Bad packet length' errors, including...   \n",
       "60     openssh  62  Show me the trend of 'PAM service ignoring max...   \n",
       "\n",
       "                                          logql_query  \\\n",
       "0   {application=\"openstack\", log_file_type=\"nova-...   \n",
       "1   {application=\"openstack\", log_file_type=\"nova-...   \n",
       "2   {application=\"openstack\", log_file_type=\"nova-...   \n",
       "3   max by (node) (\\n  max_over_time(\\n    {applic...   \n",
       "4   max by (node) (\\n  max_over_time(\\n    {applic...   \n",
       "..                                                ...   \n",
       "56  sum by (ip) (\\n  count_over_time(\\n    {applic...   \n",
       "57  sum(\\nsum by (source_ip) (\\n  count_over_time(...   \n",
       "58  sum by (hostname) (count_over_time({applicatio...   \n",
       "59  sum by (length) (\\n    count_over_time(\\n     ...   \n",
       "60  sum by (timestamp) (\\n  count_over_time(\\n    ...   \n",
       "\n",
       "                                    query_explanation  \\\n",
       "0                                                 bla   \n",
       "1   1. {application=\"openstack\", log_file_type=\"no...   \n",
       "2   1\\n{application=\"openstack\", log_file_type=\"no...   \n",
       "3   1\\n{application=\"openstack\", log_file_type=\"no...   \n",
       "4   1\\n{application=\"openstack\", log_file_type=\"no...   \n",
       "..                                                ...   \n",
       "56  1\\n{application=\"openssh\", hostname=\"LabSZ\"}\\n...   \n",
       "57  1\\n{application=\"openssh\", hostname=\"LabSZ\"}\\n...   \n",
       "58  1\\n{application=\"openssh\"}\\nFetch all log line...   \n",
       "59  1\\n{application=\"openssh\", hostname=\"LabSZ\"}\\n...   \n",
       "60  1\\n{application=\"openssh\", hostname=\"LabSZ\"}\\n...   \n",
       "\n",
       "                                         query_result  \\\n",
       "0     3edec1e4-9678-4a3a-a21b-a145a4ee5e61 took 20.58   \n",
       "1                                               21.38   \n",
       "2   vcpu: 0.00 VCPU used out of 16 VCPU\\ndisk: 0.0...   \n",
       "3   <graph>\\ngraph with plot of used_vcpus across ...   \n",
       "4   <graph>\\\\ngraph with plot of used_vcpus across...   \n",
       "..                                                ...   \n",
       "56                            226 unique IP addresses   \n",
       "57                                              11.5k   \n",
       "58                                                  1   \n",
       "59                                         1\\n<graph>   \n",
       "60                                              38.0k   \n",
       "\n",
       "                         category  \n",
       "0                                  \n",
       "1                                  \n",
       "2                                  \n",
       "3                                  \n",
       "4                                  \n",
       "..                            ...  \n",
       "56          Invalid User Attempts  \n",
       "57          Invalid User Attempts  \n",
       "58  System Health and Performance  \n",
       "59  System Health and Performance  \n",
       "60  System Health and Performance  \n",
       "\n",
       "[61 rows x 7 columns]"
      ]
     },
     "metadata": {},
     "output_type": "display_data"
    }
   ],
   "source": [
    "display(df)"
   ]
  },
  {
   "cell_type": "code",
   "execution_count": 4,
   "metadata": {},
   "outputs": [],
   "source": [
    "# view all questions where the application is openstack\n",
    "openstack_df = df[df[\"application\"] == \"openstack\"]"
   ]
  },
  {
   "cell_type": "code",
   "execution_count": 16,
   "metadata": {},
   "outputs": [],
   "source": [
    "pd.set_option(\"display.max_colwidth\", None)"
   ]
  },
  {
   "cell_type": "code",
   "execution_count": 25,
   "metadata": {},
   "outputs": [
    {
     "name": "stdout",
     "output_type": "stream",
     "text": [
      "{\"question\":\"How long did it take to spawn instance 3edec1e4-9678-4a3a-a21b-a145a4ee5e61 on the hypervisor?\"}\n",
      "{\"question\":\"What was the total time taken to build instance 3edec1e4-9678-4a3a-a21b-a145a4ee5e61?\"}\n",
      "{\"question\":\"What was the total time taken to build instance 3edec1e4-9678-4a3a-a21b-a145a4ee5e61?\"}\n",
      "{\"question\":\"What is the vCPU usage for compute node cp-1.slowvm1.tcloud-pg0.utah.cloudlab.us?\"}\n",
      "{\"question\":\"What is the RAM usage for compute node cp-1.slowvm1.tcloud-pg0.utah.cloudlab.us?\"}\n",
      "{\"question\":\"What was the maximum response time for GET request to \\/v2\\/54fadb412c4e40cdbaed9335e4c35a9e\\/servers\\/detail?\"}\n",
      "{\"question\":\"How many POST requests to \\/v2\\/e9746973ac574c6b8a9e8857f56a7608\\/os-server-external-events resulted in a 200 status code?\"}\n",
      "{\"question\":\"What's the average response time for DELETE requests to \\/v2\\/54fadb412c4e40cdbaed9335e4c35a9e\\/servers\\/\"}\n",
      "{\"question\":\"How many instances of 'HTTP exception thrown: No instances found for any event' occurred in the nova-api logs in the last 40 days?\"}\n",
      "{\"question\":\"What errors were encountered during the ComputeManager._run_image_cache_manager_pass operation in the last 40 days?\"}\n",
      "{\"question\":\"How many times did we receive a 503 status code while validating tokens in the past 30 days?\"}\n",
      "{\"question\":\"How many active base files are currently in use?\"}\n",
      "{\"question\":\"What is the latest usage status of image 0673dd71-34c5-4fbb-86c4-40623fbe45b4?\"}\n",
      "{\"question\":\"How many unknown base files were detected in the last 30 days?\"}\n",
      "{\"question\":\"How long did it take to deallocate the network for instance 3edec1e4-9678-4a3a-a21b-a145a4ee5e61?\"}\n",
      "{\"question\":\"How many network-vif-plugged events were created in the last hour?\"}\n",
      "\n"
     ]
    }
   ],
   "source": [
    "print(openstack_df[[\"question\"]].to_json(lines=True, orient=\"records\"))\n",
    "\n",
    "# # view as json\n",
    "# openstack_df.to_json(\"openstack_questions.json\", orient=\"records\", lines=True)"
   ]
  },
  {
   "cell_type": "code",
   "execution_count": 9,
   "metadata": {},
   "outputs": [
    {
     "data": {
      "application/vnd.jupyter.widget-view+json": {
       "model_id": "dd5b83d05fb84c5d9b16b40230640d11",
       "version_major": 2,
       "version_minor": 0
      },
      "text/plain": [
       "Uploading the dataset shards:   0%|          | 0/1 [00:00<?, ?it/s]"
      ]
     },
     "metadata": {},
     "output_type": "display_data"
    },
    {
     "data": {
      "application/vnd.jupyter.widget-view+json": {
       "model_id": "f3723db09ce04f8081941dedd3d9e1d1",
       "version_major": 2,
       "version_minor": 0
      },
      "text/plain": [
       "Creating parquet from Arrow format:   0%|          | 0/1 [00:00<?, ?ba/s]"
      ]
     },
     "metadata": {},
     "output_type": "display_data"
    },
    {
     "data": {
      "application/vnd.jupyter.widget-view+json": {
       "model_id": "07cb6f6749df40319e2e11751f4c9af0",
       "version_major": 2,
       "version_minor": 0
      },
      "text/plain": [
       "README.md:   0%|          | 0.00/467 [00:00<?, ?B/s]"
      ]
     },
     "metadata": {},
     "output_type": "display_data"
    },
    {
     "data": {
      "text/plain": [
       "CommitInfo(commit_url='https://huggingface.co/datasets/sidbin/natural-logql/commit/6ed5d768f7c4deedd146614e3a8850b248c5a603', commit_message='Upload dataset', commit_description='', oid='6ed5d768f7c4deedd146614e3a8850b248c5a603', pr_url=None, repo_url=RepoUrl('https://huggingface.co/datasets/sidbin/natural-logql', endpoint='https://huggingface.co', repo_type='dataset', repo_id='sidbin/natural-logql'), pr_revision=None, pr_num=None)"
      ]
     },
     "execution_count": 9,
     "metadata": {},
     "output_type": "execute_result"
    }
   ],
   "source": [
    "dataset.push_to_hub(\"sidbin/natural-logql\")"
   ]
  },
  {
   "cell_type": "code",
   "execution_count": 29,
   "metadata": {},
   "outputs": [
    {
     "data": {
      "text/plain": [
       "'<graph>\\ngraph with plot of used_vcpus across different logs.\\nmaximum is 1\\n</graph>'"
      ]
     },
     "execution_count": 29,
     "metadata": {},
     "output_type": "execute_result"
    }
   ],
   "source": [
    "df[df[\"id\"] == 5][\"query_result\"].values[0]"
   ]
  },
  {
   "cell_type": "code",
   "execution_count": 2,
   "metadata": {},
   "outputs": [
    {
     "data": {
      "text/html": [
       "<div>\n",
       "<style scoped>\n",
       "    .dataframe tbody tr th:only-of-type {\n",
       "        vertical-align: middle;\n",
       "    }\n",
       "\n",
       "    .dataframe tbody tr th {\n",
       "        vertical-align: top;\n",
       "    }\n",
       "\n",
       "    .dataframe thead th {\n",
       "        text-align: right;\n",
       "    }\n",
       "</style>\n",
       "<table border=\"1\" class=\"dataframe\">\n",
       "  <thead>\n",
       "    <tr style=\"text-align: right;\">\n",
       "      <th></th>\n",
       "      <th>application</th>\n",
       "      <th>id</th>\n",
       "      <th>question</th>\n",
       "      <th>logql_query</th>\n",
       "      <th>query_explanation</th>\n",
       "      <th>query_result</th>\n",
       "    </tr>\n",
       "  </thead>\n",
       "  <tbody>\n",
       "  </tbody>\n",
       "</table>\n",
       "</div>"
      ],
      "text/plain": [
       "Empty DataFrame\n",
       "Columns: [application, id, question, logql_query, query_explanation, query_result]\n",
       "Index: []"
      ]
     },
     "metadata": {},
     "output_type": "display_data"
    }
   ],
   "source": [
    "from datasets import Dataset\n",
    "import pandas as pd\n",
    "from IPython.display import display, HTML\n",
    "\n",
    "dataset_path = \"nl-logql-dataset\"\n",
    "# Load existing dataset or create a new one\n",
    "try:\n",
    "    dataset = Dataset.load_from_disk(dataset_path)\n",
    "    df = dataset.to_pandas()\n",
    "except:\n",
    "    df = pd.DataFrame(\n",
    "        columns=[\n",
    "            \"application\",\n",
    "            \"id\",\n",
    "            \"question\",\n",
    "            \"logql_query\",\n",
    "            \"query_explanation\",\n",
    "            \"query_result\",\n",
    "        ]\n",
    "    )\n",
    "\n",
    "\n",
    "def save_dataset():\n",
    "    dataset = Dataset.from_pandas(df)\n",
    "    dataset.save_to_disk(dataset_path)\n",
    "\n",
    "\n",
    "def display_message(message, color=\"green\"):\n",
    "    display(HTML(f\"<p style='color:{color}'>{message}</p>\"))\n",
    "\n",
    "\n",
    "def add_entry(app, question, query, explanation, result):\n",
    "    global df\n",
    "    if not all([app, question, query, explanation, result]):\n",
    "        display_message(\"All fields must be filled.\", \"red\")\n",
    "        return\n",
    "    new_id = df[\"id\"].max() + 1 if len(df) > 0 else 1\n",
    "    new_row = pd.DataFrame(\n",
    "        {\n",
    "            \"application\": [app],\n",
    "            \"id\": [new_id],\n",
    "            \"question\": [question],\n",
    "            \"logql_query\": [query],\n",
    "            \"query_explanation\": [explanation],\n",
    "            \"query_result\": [result],\n",
    "        }\n",
    "    )\n",
    "    df = pd.concat([df, new_row], ignore_index=True)\n",
    "    save_dataset()\n",
    "    display_message(f\"Entry added successfully. Total entries: {len(df)}\")\n",
    "\n",
    "\n",
    "def edit_entry(entry_id, app, question, query, explanation, result):\n",
    "    global df\n",
    "    if entry_id not in df[\"id\"].values:\n",
    "        display_message(f\"Entry with ID {entry_id} not found.\", \"red\")\n",
    "        return\n",
    "    if not all([app, question, query, explanation, result]):\n",
    "        display_message(\"All fields must be filled.\", \"red\")\n",
    "        return\n",
    "    df.loc[\n",
    "        df[\"id\"] == entry_id,\n",
    "        [\"application\", \"question\", \"logql_query\", \"query_explanation\", \"query_result\"],\n",
    "    ] = [app, question, query, explanation, result]\n",
    "    save_dataset()\n",
    "    display_message(f\"Entry {entry_id} updated successfully.\")\n",
    "\n",
    "\n",
    "def delete_entry(entry_id):\n",
    "    global df\n",
    "    if entry_id not in df[\"id\"].values:\n",
    "        display_message(f\"Entry with ID {entry_id} not found.\", \"red\")\n",
    "        return\n",
    "    df = df[df[\"id\"] != entry_id].reset_index(drop=True)\n",
    "    save_dataset()\n",
    "    display_message(f\"Entry {entry_id} deleted successfully.\")\n",
    "\n",
    "\n",
    "def display_entries():\n",
    "    display(df)\n",
    "\n",
    "\n",
    "# Input cells for adding a new entry\n",
    "def add_new_entry():\n",
    "    app = input(\"Application name: \")\n",
    "    question = input(\"Question: \")\n",
    "    query = input(\"LogQL query: \")\n",
    "    explanation = input(\"Query explanation: \")\n",
    "    result = input(\"Query result: \")\n",
    "    add_entry(app, question, query, explanation, result)\n",
    "\n",
    "\n",
    "# Input cells for editing an existing entry\n",
    "def edit_existing_entry():\n",
    "    entry_id = int(input(\"Enter the ID of the entry to edit: \"))\n",
    "    app = input(\"Application name: \")\n",
    "    question = input(\"Question: \")\n",
    "    query = input(\"LogQL query: \")\n",
    "    explanation = input(\"Query explanation: \")\n",
    "    result = input(\"Query result: \")\n",
    "    edit_entry(entry_id, app, question, query, explanation, result)\n",
    "\n",
    "\n",
    "# Input cell for deleting an entry\n",
    "def delete_existing_entry():\n",
    "    entry_id = int(input(\"Enter the ID of the entry to delete: \"))\n",
    "    delete_entry(entry_id)\n",
    "\n",
    "\n",
    "# Display current dataset\n",
    "display_entries()"
   ]
  },
  {
   "cell_type": "code",
   "execution_count": 3,
   "metadata": {},
   "outputs": [
    {
     "data": {
      "text/html": [
       "<p style='color:red'>All fields must be filled.</p>"
      ],
      "text/plain": [
       "<IPython.core.display.HTML object>"
      ]
     },
     "metadata": {},
     "output_type": "display_data"
    }
   ],
   "source": [
    "add_new_entry()"
   ]
  }
 ],
 "metadata": {
  "kernelspec": {
   "display_name": ".venv",
   "language": "python",
   "name": "python3"
  },
  "language_info": {
   "codemirror_mode": {
    "name": "ipython",
    "version": 3
   },
   "file_extension": ".py",
   "mimetype": "text/x-python",
   "name": "python",
   "nbconvert_exporter": "python",
   "pygments_lexer": "ipython3",
   "version": "3.12.6"
  }
 },
 "nbformat": 4,
 "nbformat_minor": 2
}
